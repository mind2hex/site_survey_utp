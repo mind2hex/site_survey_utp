{
 "cells": [
  {
   "cell_type": "code",
   "execution_count": 1,
   "id": "d68b491d-b065-4201-b6ea-55cb79389322",
   "metadata": {},
   "outputs": [
    {
     "data": {
      "application/vnd.jupyter.widget-view+json": {
       "model_id": "c8e10919cb2d4987abd09674cc8f292b",
       "version_major": 2,
       "version_minor": 0
      },
      "text/plain": [
       "interactive(children=(Dropdown(description='Location:', options=('cafeteria', 'pasillo_1', 'pasillo_2', 'pasil…"
      ]
     },
     "metadata": {},
     "output_type": "display_data"
    },
    {
     "data": {
      "text/plain": [
       "<function __main__.plot_channel_distribution(location)>"
      ]
     },
     "execution_count": 1,
     "metadata": {},
     "output_type": "execute_result"
    }
   ],
   "source": [
    "import json\n",
    "import matplotlib.pyplot as plt\n",
    "import ipywidgets as widgets\n",
    "from IPython.display import display\n",
    "\n",
    "\n",
    "\n",
    "# coords y datos de señal\n",
    "locations = [\n",
    "    \"cafeteria\",\n",
    "    \"pasillo_1\",\n",
    "    \"pasillo_2\",\n",
    "    \"pasillo_3\",\n",
    "    \"pasillo_4\",\n",
    "    \"salon_211\",\n",
    "    \"salon_219\",\n",
    "    \"salon_223\",\n",
    "    \"secretaria\",\n",
    "    \"vestibulo\"\n",
    "]\n",
    "\n",
    "\n",
    "location_channels = {}\n",
    "for location in locations:\n",
    "    channels = {}\n",
    "    with open(f\"./scan_data/{location}.json\", 'r') as AP_data:\n",
    "        APs = json.loads(AP_data.read())['APResults']\n",
    "\n",
    "    for AP in APs:\n",
    "        channel = AP['channel']\n",
    "        channels.setdefault(channel, 0)\n",
    "        channels[channel] += 1\n",
    "\n",
    "    location_channels[location] = channels\n",
    "\n",
    "# Función para graficar la distribución de canales\n",
    "def plot_channel_distribution(location):\n",
    "    channel_counts = location_channels[location]\n",
    "    channels = list(channel_counts.keys())\n",
    "    counts = list(channel_counts.values())\n",
    "\n",
    "    plt.figure(figsize=(10, 5))\n",
    "    plt.bar(channels, counts, color='blue')\n",
    "    plt.xlabel('Channel')\n",
    "    plt.ylabel('Number of APs')\n",
    "    plt.title(f'Channel Distribution in {location}')\n",
    "    plt.grid(True)\n",
    "    plt.show()\n",
    "\n",
    "# Crear un widget de menú desplegable para seleccionar la ubicación\n",
    "location_dropdown = widgets.Dropdown(\n",
    "    options=locations,\n",
    "    value='cafeteria',  # Valor predeterminado\n",
    "    description='Location:',\n",
    "    disabled=False,\n",
    ")\n",
    "\n",
    "# Interactuar con la función de graficación\n",
    "widgets.interact(plot_channel_distribution, location=location_dropdown)\n",
    "\n",
    "\n",
    "\n",
    "\n"
   ]
  }
 ],
 "metadata": {
  "kernelspec": {
   "display_name": "Python 3 (ipykernel)",
   "language": "python",
   "name": "python3"
  },
  "language_info": {
   "codemirror_mode": {
    "name": "ipython",
    "version": 3
   },
   "file_extension": ".py",
   "mimetype": "text/x-python",
   "name": "python",
   "nbconvert_exporter": "python",
   "pygments_lexer": "ipython3",
   "version": "3.12.3"
  }
 },
 "nbformat": 4,
 "nbformat_minor": 5
}
